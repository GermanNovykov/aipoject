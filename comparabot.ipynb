{
 "cells": [
  {
   "cell_type": "code",
   "execution_count": 15,
   "metadata": {},
   "outputs": [
    {
     "name": "stdout",
     "output_type": "stream",
     "text": [
      "   HeartDisease      \n",
      "           self other\n",
      "20          0.0   1.0\n",
      "    HeartDisease      \n",
      "            self other\n",
      "12           1.0   0.0\n",
      "44           1.0   0.0\n",
      "47           1.0   0.0\n",
      "84           1.0   0.0\n",
      "120          0.0   1.0\n",
      "163          1.0   0.0\n",
      "212          1.0   0.0\n",
      "254          0.0   1.0\n",
      "265          1.0   0.0\n",
      "list index out of range\n"
     ]
    }
   ],
   "source": [
    "import pandas as pd\n",
    "\n",
    "\n",
    "def compare_dfs(*args):\n",
    "    dflist = []\n",
    "    for item in args:\n",
    "        df = pd.read_csv(item, sep=',')\n",
    "        dflist.append(df)\n",
    "    for i in range(len(dflist)):\n",
    "        try:\n",
    "            print(dflist[i].compare(dflist[i+1]))\n",
    "        except Exception as e:\n",
    "            print(e)\n",
    "        \n",
    "\n",
    "compare_dfs(\"./final_submission_stacking91.csv\", 'final_submission.csv', './submission89.csv')"
   ]
  }
 ],
 "metadata": {
  "kernelspec": {
   "display_name": "Python 3",
   "language": "python",
   "name": "python3"
  },
  "language_info": {
   "codemirror_mode": {
    "name": "ipython",
    "version": 3
   },
   "file_extension": ".py",
   "mimetype": "text/x-python",
   "name": "python",
   "nbconvert_exporter": "python",
   "pygments_lexer": "ipython3",
   "version": "3.12.2"
  }
 },
 "nbformat": 4,
 "nbformat_minor": 2
}
