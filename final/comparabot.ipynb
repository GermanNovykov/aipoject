{
 "cells": [
  {
   "cell_type": "code",
   "execution_count": 1,
   "metadata": {},
   "outputs": [
    {
     "data": {
      "text/plain": [
       "['final_submission.csv', 'test_heart.csv', 'train_heart.csv']"
      ]
     },
     "execution_count": 1,
     "metadata": {},
     "output_type": "execute_result"
    }
   ],
   "source": [
    "import pandas as pd\n",
    "\n",
    "\n",
    "def compare_dfs(args):\n",
    "    dflist = []\n",
    "    for item in args:\n",
    "        df = pd.read_csv(item, sep=',')\n",
    "    for i in range(len(dflist)):\n",
    "        try:\n",
    "            print(dflist[i].compare(dflist[i+1]))\n",
    "        except Exception as e:\n",
    "            print(e)\n",
    "        \n",
    "\n",
    "import os\n",
    "\n",
    "# List all files in the current directory\n",
    "files = os.listdir('.')\n",
    "\n",
    "# Filter for CSV files\n",
    "csv_files = [file for file in files if file.endswith('.csv')]\n",
    "\n",
    "csv_files"
   ]
  }
 ],
 "metadata": {
  "kernelspec": {
   "display_name": "Python 3",
   "language": "python",
   "name": "python3"
  },
  "language_info": {
   "codemirror_mode": {
    "name": "ipython",
    "version": 3
   },
   "file_extension": ".py",
   "mimetype": "text/x-python",
   "name": "python",
   "nbconvert_exporter": "python",
   "pygments_lexer": "ipython3",
   "version": "3.12.2"
  }
 },
 "nbformat": 4,
 "nbformat_minor": 2
}
