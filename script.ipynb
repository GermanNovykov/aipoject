{
 "cells": [
  {
   "cell_type": "code",
   "execution_count": 359,
   "metadata": {},
   "outputs": [
    {
     "name": "stdout",
     "output_type": "stream",
     "text": [
      "Accuracy: 0.8333333333333334\n"
     ]
    }
   ],
   "source": [
    "import pandas as pd\n",
    "from sklearn.model_selection import train_test_split\n",
    "\n",
    "from sklearn.ensemble import RandomForestClassifier\n",
    "from sklearn.metrics import accuracy_score\n",
    "import category_encoders as ce \n",
    "\n",
    "# TRAINING PART\n",
    "# IMPORT CSV\n",
    "hearts = pd.read_csv('train_heart.csv', sep=',')\n",
    "\n",
    "# FILTER VALUES\n",
    "hearts = hearts[hearts['Cholesterol'] != 0]\n",
    "\n",
    "# # DROP UNNECESSARY COLS AND FIND y\n",
    "X = hearts.drop(['id', 'HeartDisease'], axis=1)\n",
    "y = hearts['HeartDisease']\n",
    "\n",
    "\n",
    "\n",
    "\n",
    "# # ENCODE X\n",
    "encoder = ce.OrdinalEncoder(cols=X.columns)\n",
    "X_encoded = encoder.fit_transform(X)\n",
    "\n",
    "# # DATA SPLICING (TEST AND TRAIN)\n",
    "X_train, X_test, y_train, y_test = train_test_split(X_encoded, y, test_size=0.3)\n",
    "\n",
    "# # FIT MODEL\n",
    "clf = RandomForestClassifier(n_estimators=100, max_depth=None, min_samples_leaf=4, min_samples_split=10)\n",
    "clf.fit(X_train, y_train)\n",
    "y_pred = clf.predict(X_test)\n",
    "\n",
    "\n",
    "param_grid = {\n",
    "    'classifier__n_estimators': [100],\n",
    "    'classifier__max_depth': [None],\n",
    "    'classifier__min_samples_split': [2, 5, 7, 10],\n",
    "    'classifier__min_samples_leaf': [4]\n",
    "}\n",
    "\n",
    "# # Calculating the accuracy\n",
    "accuracy = accuracy_score(y_test, y_pred)\n",
    "print(f'Accuracy: {accuracy}')\n",
    "\n",
    "\n",
    "# TESTING PART\n",
    "# IMPORT CSV\n",
    "test = pd.read_csv('test_heart.csv', sep=',')\n",
    "#FILTER VALUES\n",
    "\n",
    "# chol_median = test.loc[test['Cholesterol'] != 0, 'Cholesterol'].median()\n",
    "# test['Cholesterol'].replace(0, chol_median, inplace=True)\n",
    "\n",
    "# resting_median = test.loc[test['RestingBP'] != 0, 'RestingBP'].median()\n",
    "# test['RestingBP'].replace(0, resting_median, inplace=True)\n",
    "\n",
    "\n",
    "# X_new = test.drop(['id'], axis=1)\n",
    "\n",
    "\n",
    "\n",
    "# # ENCODE X\n",
    "# X_new_encoded = encoder.transform(X_new)\n",
    "\n",
    "\n",
    "# # PREDICT AND PUT INTO PANDAS DATAFRAME\n",
    "# predictions = clf.predict(X_new_encoded)\n",
    "# id_to_prediction_df = pd.DataFrame({\n",
    "#     'id': test['id'],\n",
    "#     'HeartDisease': predictions\n",
    "# })\n",
    "\n",
    "# # OUTPUT VIA CSV\\a\n",
    "# file_name = './submissiontest.csv'\n",
    "# id_to_prediction_df.to_csv(file_name, index=False)\n",
    "\n",
    "# print(f\"File saved as {file_name}\")"
   ]
  }
 ],
 "metadata": {
  "kernelspec": {
   "display_name": "Python 3",
   "language": "python",
   "name": "python3"
  },
  "language_info": {
   "codemirror_mode": {
    "name": "ipython",
    "version": 3
   },
   "file_extension": ".py",
   "mimetype": "text/x-python",
   "name": "python",
   "nbconvert_exporter": "python",
   "pygments_lexer": "ipython3",
   "version": "3.12.2"
  }
 },
 "nbformat": 4,
 "nbformat_minor": 2
}
