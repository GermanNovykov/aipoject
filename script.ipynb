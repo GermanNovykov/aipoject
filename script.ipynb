{
 "cells": [
  {
   "cell_type": "code",
   "execution_count": 453,
   "metadata": {},
   "outputs": [
    {
     "name": "stderr",
     "output_type": "stream",
     "text": [
      "C:\\Users\\germa\\AppData\\Local\\Temp\\ipykernel_2404\\968707822.py:13: FutureWarning: A value is trying to be set on a copy of a DataFrame or Series through chained assignment using an inplace method.\n",
      "The behavior will change in pandas 3.0. This inplace method will never work because the intermediate object on which we are setting values always behaves as a copy.\n",
      "\n",
      "For example, when doing 'df[col].method(value, inplace=True)', try using 'df.method({col: value}, inplace=True)' or df[col] = df[col].method(value) instead, to perform the operation inplace on the original object.\n",
      "\n",
      "\n",
      "  hearts['Cholesterol'].replace(0, chol_median, inplace=True)\n",
      "C:\\Users\\germa\\AppData\\Local\\Temp\\ipykernel_2404\\968707822.py:16: FutureWarning: A value is trying to be set on a copy of a DataFrame or Series through chained assignment using an inplace method.\n",
      "The behavior will change in pandas 3.0. This inplace method will never work because the intermediate object on which we are setting values always behaves as a copy.\n",
      "\n",
      "For example, when doing 'df[col].method(value, inplace=True)', try using 'df.method({col: value}, inplace=True)' or df[col] = df[col].method(value) instead, to perform the operation inplace on the original object.\n",
      "\n",
      "\n",
      "  hearts['RestingBP'].replace(0, resting_median, inplace=True)\n"
     ]
    }
   ],
   "source": [
    "import pandas as pd\n",
    "from sklearn.model_selection import train_test_split\n",
    "from sklearn.ensemble import RandomForestClassifier\n",
    "from sklearn.metrics import accuracy_score\n",
    "import category_encoders as ce \n",
    "pd.set_option('future.no_silent_downcasting', True)\n",
    "\n",
    "# TRAINING PART\n",
    "# IMPORT CSV\n",
    "hearts = pd.read_csv('train_heart.csv', sep=',')\n",
    "# FILTER VALUES\n",
    "chol_median = hearts.loc[hearts['Cholesterol'] != 0, 'Cholesterol'].median()\n",
    "hearts['Cholesterol'].replace(0, chol_median, inplace=True)\n",
    "\n",
    "resting_median = hearts.loc[hearts['RestingBP'] != 0, 'RestingBP'].median()\n",
    "hearts['RestingBP'].replace(0, resting_median, inplace=True)\n",
    "\n",
    "# # DROP UNNECESSARY COLS AND FIND y\n",
    "X = hearts.drop(['id', 'HeartDisease'], axis=1)\n",
    "y = hearts['HeartDisease']\n",
    "\n",
    "\n",
    "# # ENCODE X\n",
    "encoder = ce.OrdinalEncoder(cols=X.columns)\n",
    "X_encoded = encoder.fit_transform(X)\n",
    "\n",
    "\n",
    "# # DATA SPLICING (TEST AND TRAIN)\n",
    "X_train, X_test, y_train, y_test = train_test_split(X_encoded, y, test_size=0.3)\n",
    "\n",
    "# # FIT MODEL\n",
    "clf = RandomForestClassifier(n_estimators=1000, max_leaf_nodes=4)\n",
    "clf.fit(X_train, y_train)\n",
    "y_pred = clf.predict(X_test)\n",
    "\n",
    "# # Calculating the accuracy\n",
    "accuracy = accuracy_score(y_test, y_pred)\n",
    "print(f'Accuracy: {accuracy}')\n",
    "#update\n",
    "\n",
    "# TESTING PART\n",
    "# IMPORT CSV\n",
    "test = pd.read_csv('test_heart.csv', sep=',')\n",
    "#FILTER VALUES\n",
    "chol_median = test.loc[test['Cholesterol'] != 0, 'Cholesterol'].median()\n",
    "test['Cholesterol'].replace(0, chol_median, inplace=True)\n",
    "\n",
    "resting_median = test.loc[test['RestingBP'] != 0, 'RestingBP'].median()\n",
    "test['RestingBP'].replace(0, resting_median, inplace=True)\n",
    "\n",
    "X_new = test.drop(['id'], axis=1)\n",
    "\n",
    "# # ENCODE X\n",
    "X_new_encoded = encoder.transform(X_new)\n",
    "\n",
    "\n",
    "# # Calculating the accuracy\n",
    "accuracy = accuracy_score(y_test, y_pred)\n",
    "print(f'Accuracy in test: {accuracy}')\n",
    "\n",
    "# # PREDICT AND PUT INTO PANDAS DATAFRAME\n",
    "predictions = clf.predict(X_new_encoded)\n",
    "id_to_prediction_df = pd.DataFrame({\n",
    "    'id': test['id'],\n",
    "    'HeartDisease': predictions\n",
    "})\n",
    "\n",
    "# # OUTPUT VIA CSV\\a\n",
    "file_name = './submissiontest.csv'\n",
    "id_to_prediction_df.to_csv(file_name, index=False)\n",
    "\n",
    "print(f\"File saved as {file_name}\")"
   ]
  },
  {
   "cell_type": "code",
   "execution_count": null,
   "metadata": {},
   "outputs": [
    {
     "name": "stdout",
     "output_type": "stream",
     "text": [
      "     Age  Sex  ChestPainType  RestingBP  Cholesterol  FastingBS  RestingECG  \\\n",
      "0      1    1              1          1            1          1           1   \n",
      "1      2    1              1          2            2          2           2   \n",
      "2      3    1              1          3            3          2           1   \n",
      "3      3    1              2          3            4          2           3   \n",
      "4      4    1              1          4            5          1           1   \n",
      "..   ...  ...            ...        ...          ...        ...         ...   \n",
      "637    9    1              2          4          108          2           1   \n",
      "638    6    1              1         16            3          1           3   \n",
      "639    9    2              3         10          160          2           3   \n",
      "640   30    1              4         24           83          1           2   \n",
      "641   30    1              1         39            3          2           3   \n",
      "\n",
      "     MaxHR  ExerciseAngina  Oldpeak  ST_Slope  \n",
      "0        1               1        1         1  \n",
      "1        2               1        2         1  \n",
      "2        3               1        3         2  \n",
      "3        4               2        4         3  \n",
      "4        2               2        5         1  \n",
      "..     ...             ...      ...       ...  \n",
      "637     27               2        5         3  \n",
      "638     37               2       23         3  \n",
      "639     15               1        5         1  \n",
      "640     76               2       21         1  \n",
      "641     79               1        1         1  \n",
      "\n",
      "[642 rows x 11 columns]\n"
     ]
    }
   ],
   "source": [
    "print(X_encoded)"
   ]
  }
 ],
 "metadata": {
  "kernelspec": {
   "display_name": "Python 3",
   "language": "python",
   "name": "python3"
  },
  "language_info": {
   "codemirror_mode": {
    "name": "ipython",
    "version": 3
   },
   "file_extension": ".py",
   "mimetype": "text/x-python",
   "name": "python",
   "nbconvert_exporter": "python",
   "pygments_lexer": "ipython3",
   "version": "3.12.2"
  }
 },
 "nbformat": 4,
 "nbformat_minor": 2
}
