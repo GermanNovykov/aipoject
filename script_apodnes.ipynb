{
 "cells": [
  {
   "cell_type": "markdown",
   "metadata": {},
   "source": [
    "# Heart Disease Prediction\n",
    "\n",
    "This notebook aims to predict heart disease using various machine learning techniques. The dataset includes several medical attributes that contribute to heart disease outcomes. We will perform data preprocessing, explore the creation of interaction terms, encode categorical variables, and apply machine learning models to predict the presence of heart disease.\n"
   ]
  },
  {
   "cell_type": "markdown",
   "metadata": {},
   "source": [
    "### Import Libraries"
   ]
  },
  {
   "cell_type": "code",
   "execution_count": null,
   "metadata": {},
   "outputs": [],
   "source": [
    "!pip install sweetviz\n",
    "!pip install --upgrade setuptools"
   ]
  },
  {
   "cell_type": "code",
   "execution_count": 21,
   "metadata": {},
   "outputs": [],
   "source": [
    "import pandas as pd\n",
    "from sklearn.model_selection import train_test_split, GridSearchCV\n",
    "from sklearn.metrics import accuracy_score, confusion_matrix, classification_report\n",
    "from sklearn.preprocessing import PolynomialFeatures, StandardScaler\n",
    "import category_encoders as ce\n",
    "from sklearn.ensemble import AdaBoostClassifier\n",
    "from sklearn.tree import DecisionTreeClassifier\n",
    "import matplotlib.pyplot as plt\n",
    "import seaborn as sns\n",
    "import numpy as np\n",
    "import sweetviz as sv"
   ]
  },
  {
   "cell_type": "markdown",
   "metadata": {},
   "source": [
    "### Data Loading and Preliminary Exploration\n",
    "\n",
    "We start by loading the training and test datasets and conduct a brief exploration to understand the structure and type of data we are dealing with."
   ]
  },
  {
   "cell_type": "code",
   "execution_count": 22,
   "metadata": {},
   "outputs": [
    {
     "data": {
      "text/html": [
       "<div>\n",
       "<style scoped>\n",
       "    .dataframe tbody tr th:only-of-type {\n",
       "        vertical-align: middle;\n",
       "    }\n",
       "\n",
       "    .dataframe tbody tr th {\n",
       "        vertical-align: top;\n",
       "    }\n",
       "\n",
       "    .dataframe thead th {\n",
       "        text-align: right;\n",
       "    }\n",
       "</style>\n",
       "<table border=\"1\" class=\"dataframe\">\n",
       "  <thead>\n",
       "    <tr style=\"text-align: right;\">\n",
       "      <th></th>\n",
       "      <th>id</th>\n",
       "      <th>Age</th>\n",
       "      <th>Sex</th>\n",
       "      <th>ChestPainType</th>\n",
       "      <th>RestingBP</th>\n",
       "      <th>Cholesterol</th>\n",
       "      <th>FastingBS</th>\n",
       "      <th>RestingECG</th>\n",
       "      <th>MaxHR</th>\n",
       "      <th>ExerciseAngina</th>\n",
       "      <th>Oldpeak</th>\n",
       "      <th>ST_Slope</th>\n",
       "      <th>HeartDisease</th>\n",
       "    </tr>\n",
       "  </thead>\n",
       "  <tbody>\n",
       "    <tr>\n",
       "      <th>0</th>\n",
       "      <td>563</td>\n",
       "      <td>55</td>\n",
       "      <td>M</td>\n",
       "      <td>ASY</td>\n",
       "      <td>135</td>\n",
       "      <td>204</td>\n",
       "      <td>1</td>\n",
       "      <td>ST</td>\n",
       "      <td>126</td>\n",
       "      <td>Y</td>\n",
       "      <td>1.1</td>\n",
       "      <td>Flat</td>\n",
       "      <td>1</td>\n",
       "    </tr>\n",
       "    <tr>\n",
       "      <th>1</th>\n",
       "      <td>884</td>\n",
       "      <td>67</td>\n",
       "      <td>M</td>\n",
       "      <td>ASY</td>\n",
       "      <td>160</td>\n",
       "      <td>286</td>\n",
       "      <td>0</td>\n",
       "      <td>LVH</td>\n",
       "      <td>108</td>\n",
       "      <td>Y</td>\n",
       "      <td>1.5</td>\n",
       "      <td>Flat</td>\n",
       "      <td>1</td>\n",
       "    </tr>\n",
       "    <tr>\n",
       "      <th>2</th>\n",
       "      <td>352</td>\n",
       "      <td>56</td>\n",
       "      <td>M</td>\n",
       "      <td>ASY</td>\n",
       "      <td>120</td>\n",
       "      <td>0</td>\n",
       "      <td>0</td>\n",
       "      <td>ST</td>\n",
       "      <td>100</td>\n",
       "      <td>Y</td>\n",
       "      <td>-1.0</td>\n",
       "      <td>Down</td>\n",
       "      <td>1</td>\n",
       "    </tr>\n",
       "    <tr>\n",
       "      <th>3</th>\n",
       "      <td>694</td>\n",
       "      <td>56</td>\n",
       "      <td>M</td>\n",
       "      <td>ATA</td>\n",
       "      <td>120</td>\n",
       "      <td>236</td>\n",
       "      <td>0</td>\n",
       "      <td>Normal</td>\n",
       "      <td>178</td>\n",
       "      <td>N</td>\n",
       "      <td>0.8</td>\n",
       "      <td>Up</td>\n",
       "      <td>0</td>\n",
       "    </tr>\n",
       "    <tr>\n",
       "      <th>4</th>\n",
       "      <td>491</td>\n",
       "      <td>75</td>\n",
       "      <td>M</td>\n",
       "      <td>ASY</td>\n",
       "      <td>170</td>\n",
       "      <td>203</td>\n",
       "      <td>1</td>\n",
       "      <td>ST</td>\n",
       "      <td>108</td>\n",
       "      <td>N</td>\n",
       "      <td>0.0</td>\n",
       "      <td>Flat</td>\n",
       "      <td>1</td>\n",
       "    </tr>\n",
       "  </tbody>\n",
       "</table>\n",
       "</div>"
      ],
      "text/plain": [
       "    id  Age Sex ChestPainType  RestingBP  Cholesterol  FastingBS RestingECG  \\\n",
       "0  563   55   M           ASY        135          204          1         ST   \n",
       "1  884   67   M           ASY        160          286          0        LVH   \n",
       "2  352   56   M           ASY        120            0          0         ST   \n",
       "3  694   56   M           ATA        120          236          0     Normal   \n",
       "4  491   75   M           ASY        170          203          1         ST   \n",
       "\n",
       "   MaxHR ExerciseAngina  Oldpeak ST_Slope  HeartDisease  \n",
       "0    126              Y      1.1     Flat             1  \n",
       "1    108              Y      1.5     Flat             1  \n",
       "2    100              Y     -1.0     Down             1  \n",
       "3    178              N      0.8       Up             0  \n",
       "4    108              N      0.0     Flat             1  "
      ]
     },
     "execution_count": 22,
     "metadata": {},
     "output_type": "execute_result"
    }
   ],
   "source": [
    "# Load the data\n",
    "train_data = pd.read_csv('train_heart.csv', sep=',')\n",
    "test_data = pd.read_csv('test_heart.csv', sep=',')\n",
    "\n",
    "# Display the first few rows of the training data\n",
    "train_data.head()"
   ]
  },
  {
   "cell_type": "code",
   "execution_count": 10,
   "metadata": {},
   "outputs": [
    {
     "name": "stderr",
     "output_type": "stream",
     "text": [
      "Done! Use 'show' commands to display/save.   |██████████| [100%]   00:00 -> (00:00 left)\n"
     ]
    },
    {
     "name": "stdout",
     "output_type": "stream",
     "text": [
      "Report heart_analysis.html was generated! NOTEBOOK/COLAB USERS: the web browser MAY not pop up, regardless, the report IS saved in your notebook/colab files.\n"
     ]
    }
   ],
   "source": [
    "report = sv.analyze(train_data)\n",
    "\n",
    "report.show_html('heart_analysis.html')"
   ]
  },
  {
   "cell_type": "markdown",
   "metadata": {},
   "source": [
    "### Data Preprocessing\n",
    "\n",
    "In this section, we address missing values, create interaction terms, encode categorical variables, and scale the features to prepare our data for modeling."
   ]
  },
  {
   "cell_type": "markdown",
   "metadata": {},
   "source": [
    "First, we address potential outliers and missing values in the dataset. Specifically, we focus on two important variables: `Cholesterol` and `RestingBP` (Resting Blood Pressure). Zero values in these variables are not plausible and likely indicate missing or incorrectly recorded data. We replace these zero values with the median value of the respective variable, which is a robust measure of central tendency that is less sensitive to outliers."
   ]
  },
  {
   "cell_type": "code",
   "execution_count": 23,
   "metadata": {},
   "outputs": [],
   "source": [
    "# Filter values for Cholesterol and RestingBP\n",
    "chol_median = train_data.loc[train_data['Cholesterol'] != 0, 'Cholesterol'].median()\n",
    "train_data['Cholesterol'].replace(0, chol_median, inplace=True)\n",
    "\n",
    "resting_median = train_data.loc[train_data['RestingBP'] != 0, 'RestingBP'].median()\n",
    "train_data['RestingBP'].replace(0, resting_median, inplace=True)"
   ]
  },
  {
   "cell_type": "markdown",
   "metadata": {},
   "source": [
    "#### Create Interaction Term\n",
    "\n",
    "Interaction terms can capture the effect of two or more variables acting together on the target variable. Here, we create an interaction term between `Age` and `Cholesterol`, hypothesizing that the combination of these variables might have a different effect on heart disease risk compared to considering them individually."
   ]
  },
  {
   "cell_type": "code",
   "execution_count": 26,
   "metadata": {},
   "outputs": [],
   "source": [
    "train_data['Age_Chol_Interact'] = train_data['Age'] * train_data['Cholesterol']"
   ]
  },
  {
   "cell_type": "markdown",
   "metadata": {},
   "source": [
    "#### Encode Categorical Variables\n",
    "\n",
    "Many machine learning models cannot handle categorical variables unless they are converted into numerical values. We use ordinal encoding to transform these variables into a numerical format while preserving the order of categories when applicable."
   ]
  },
  {
   "cell_type": "code",
   "execution_count": 27,
   "metadata": {},
   "outputs": [],
   "source": [
    "categorical_columns = train_data.select_dtypes(include=['object']).columns\n",
    "\n",
    "# Encode categorical variables\n",
    "encoder = ce.OrdinalEncoder(cols=categorical_columns)\n",
    "X_encoded = encoder.fit_transform(train_data.drop(['id', 'HeartDisease'], axis=1))"
   ]
  },
  {
   "cell_type": "markdown",
   "metadata": {},
   "source": [
    "#### Add Polynomial Features\n",
    "\n",
    "Polynomial features are generated by raising existing features to an exponent. This technique helps to capture interactions between the original features by adding squared or higher order terms of the features. It can uncover complex relationships between features and the target variable."
   ]
  },
  {
   "cell_type": "code",
   "execution_count": 28,
   "metadata": {},
   "outputs": [],
   "source": [
    "# Instantiate and apply PolynomialFeatures\n",
    "poly = PolynomialFeatures(degree=2, include_bias=False)\n",
    "X_poly = poly.fit_transform(X_encoded)\n",
    "poly_feature_names = poly.get_feature_names_out(input_features=encoder.get_feature_names_out())"
   ]
  },
  {
   "cell_type": "markdown",
   "metadata": {},
   "source": [
    "#### Scale Features\n",
    "Feature scaling is essential to normalize the range of independent variables or features of data. In the absence of scaling, the model might get biased toward high values. We use StandardScaler for this purpose, which standardizes features by removing the mean and scaling to unit variance."
   ]
  },
  {
   "cell_type": "code",
   "execution_count": 29,
   "metadata": {},
   "outputs": [],
   "source": [
    "# Scale features\n",
    "scaler = StandardScaler()\n",
    "X_scaled = scaler.fit_transform(X_poly)"
   ]
  },
  {
   "cell_type": "markdown",
   "metadata": {},
   "source": [
    "The final step in data preprocessing is splitting the dataset into training and test sets. This allows us to train our model on one subset of the data and then test it on a separate subset to evaluate its performance."
   ]
  },
  {
   "cell_type": "code",
   "execution_count": 30,
   "metadata": {},
   "outputs": [],
   "source": [
    "# Define the target variable\n",
    "y = train_data['HeartDisease']\n",
    "\n",
    "# Split the data into training and test sets\n",
    "X_train, X_test, y_train, y_test = train_test_split(X_scaled, y, test_size=0.3, random_state=42)"
   ]
  },
  {
   "cell_type": "markdown",
   "metadata": {},
   "source": [
    "With the data preprocessing completed, we're now ready to move on to the next steps: model training and evaluation"
   ]
  },
  {
   "cell_type": "markdown",
   "metadata": {},
   "source": [
    "### Feature Engineering and Model Preparation\n",
    "\n",
    "In this step, we focus on optimizing the model's performance through hyperparameter tuning. Hyperparameters are the settings that can be adjusted to control the model's learning process. Tuning these parameters helps in finding the best version of the model that can predict more accurately.\n",
    "\n",
    "For our Decision Tree classifier, we will explore a range of hyperparameters to find the best combination that yields the highest accuracy. This process is facilitated by `GridSearchCV`, a tool that performs exhaustive search over specified parameter values for an estimator.\n",
    "\n",
    "#### Hyperparameter Tuning with GridSearchCV\n",
    "\n",
    "The parameters we are tuning include:\n",
    "- `max_depth`: The maximum depth of the tree.\n",
    "- `min_samples_split`: The minimum number of samples required to split an internal node.\n",
    "- `min_samples_leaf`: The minimum number of samples required to be at a leaf node.\n",
    "- `ccp_alpha`: Complexity parameter used for Minimal Cost-Complexity Pruning.\n",
    "- `splitter`: The strategy used to choose the split at each node.\n",
    "- `class_weight`: Weights associated with classes.\n",
    "\n",
    "The goal is to find the optimal settings that lead to the best model performance."
   ]
  },
  {
   "cell_type": "code",
   "execution_count": 31,
   "metadata": {},
   "outputs": [
    {
     "name": "stdout",
     "output_type": "stream",
     "text": [
      "Fitting 5 folds for each of 1296 candidates, totalling 6480 fits\n",
      "Best parameters found: {'ccp_alpha': 0.005, 'class_weight': 'balanced', 'max_depth': None, 'min_samples_leaf': 1, 'min_samples_split': 2, 'splitter': 'random'}\n"
     ]
    }
   ],
   "source": [
    "# Define the parameter grid to search\n",
    "param_grid_extended = {\n",
    "    'max_depth': [None, 10, 20, 30, 40, 50],\n",
    "    'min_samples_split': [2, 5, 10],\n",
    "    'min_samples_leaf': [1, 2, 4],\n",
    "    'ccp_alpha': [0.0, 0.001, 0.005, 0.01, 0.05, 0.1],\n",
    "    'splitter': ['best', 'random'],\n",
    "    'class_weight': [None, 'balanced']\n",
    "}\n",
    "\n",
    "# Updating the GridSearchCV setup\n",
    "grid_search_extended = GridSearchCV(\n",
    "    estimator=DecisionTreeClassifier(random_state=42),\n",
    "    param_grid=param_grid_extended,\n",
    "    cv=5,\n",
    "    scoring='accuracy',\n",
    "    verbose=1,\n",
    "    n_jobs=-1\n",
    ")\n",
    "\n",
    "# Fit the model with grid search\n",
    "grid_search_extended.fit(X_train, y_train)\n",
    "\n",
    "# Access best_params_ to see the best set of parameters found by GridSearchCV\n",
    "best_params = grid_search_extended.best_params_\n",
    "print(f\"Best parameters found: {best_params}\")\n",
    "\n",
    "# Use the best estimator directly\n",
    "base_est = grid_search_extended.best_estimator_"
   ]
  },
  {
   "cell_type": "markdown",
   "metadata": {},
   "source": [
    "With the best hyperparameters identified, we can now proceed to use this optimally tuned Decision Tree as the base estimator for our AdaBoost classifier. This ensures that our ensemble model starts with a strong foundation."
   ]
  },
  {
   "cell_type": "markdown",
   "metadata": {},
   "source": [
    "### Model Training with AdaBoost\n",
    "\n",
    "After tuning our decision tree model to find the optimal hyperparameters, we proceed to the next significant phase—model training. In this step, we employ the AdaBoost algorithm, an ensemble method that combines multiple weak learners (in this case, decision trees) to create a strong classifier. By adjusting the weights of incorrectly classified instances, AdaBoost focuses on the hard cases, thereby improving the model's performance on the training data.\n",
    "\n",
    "### Training the AdaBoost Model\n",
    "\n",
    "AdaBoost works by iteratively adding models (in this case, decision trees) that correct the mistakes of the models already added to the ensemble. We specify the number of trees to be used (`n_estimators`) and use the best decision tree model (`base_est`) identified in the previous step as our base estimator."
   ]
  },
  {
   "cell_type": "code",
   "execution_count": 32,
   "metadata": {},
   "outputs": [
    {
     "name": "stderr",
     "output_type": "stream",
     "text": [
      "C:\\Users\\Windows\\AppData\\Roaming\\Python\\Python312\\site-packages\\sklearn\\ensemble\\_weight_boosting.py:519: FutureWarning: The SAMME.R algorithm (the default) is deprecated and will be removed in 1.6. Use the SAMME algorithm to circumvent this warning.\n",
      "  warnings.warn(\n"
     ]
    },
    {
     "name": "stdout",
     "output_type": "stream",
     "text": [
      "AdaBoost Decision Tree Accuracy: 0.8393782383419689\n"
     ]
    }
   ],
   "source": [
    "# Define the AdaBoost ensemble model using the best decision tree estimator\n",
    "ada_boost_clf = AdaBoostClassifier(estimator=base_est, n_estimators=1000, random_state=42)\n",
    "\n",
    "# Train the AdaBoost model\n",
    "ada_boost_clf.fit(X_train, y_train)\n",
    "\n",
    "# Predict on the test set\n",
    "y_pred_ada = ada_boost_clf.predict(X_test)\n",
    "\n",
    "# Calculate and print the accuracy\n",
    "accuracy_ada = accuracy_score(y_test, y_pred_ada)\n",
    "print(f'AdaBoost Decision Tree Accuracy: {accuracy_ada}')"
   ]
  },
  {
   "cell_type": "code",
   "execution_count": 35,
   "metadata": {},
   "outputs": [
    {
     "name": "stdout",
     "output_type": "stream",
     "text": [
      "Combined Model Accuracy: 0.8549222797927462\n"
     ]
    }
   ],
   "source": [
    "from sklearn.ensemble import RandomForestClassifier\n",
    "from sklearn.linear_model import LogisticRegression\n",
    "\n",
    "# Random Forest\n",
    "rf_clf = RandomForestClassifier(n_estimators=100, random_state=42)\n",
    "rf_clf.fit(X_train, y_train)\n",
    "y_pred_rf = rf_clf.predict(X_test)\n",
    "\n",
    "# Logistic Regression\n",
    "# Note: Depending on the feature scaling and data, you might need to adjust max_iter and regularization (C) parameters.\n",
    "log_reg = LogisticRegression(max_iter=1000, random_state=42)\n",
    "log_reg.fit(X_train, y_train)\n",
    "y_pred_log_reg = log_reg.predict(X_test)\n",
    "\n",
    "# Combine predictions\n",
    "combined_predictions = np.array([y_pred_ada, y_pred_rf, y_pred_log_reg])\n",
    "\n",
    "# Determine the final prediction by majority vote\n",
    "# Axis 0 is the model axis, so we sum along it and then determine if more than half vote for class 1\n",
    "final_predictions = np.apply_along_axis(lambda x: 1 if np.sum(x) > 1 else 0, axis=0, arr=combined_predictions)\n",
    "\n",
    "# Calculate and print the combined model accuracy\n",
    "accuracy_combined = accuracy_score(y_test, final_predictions)\n",
    "print(f'Combined Model Accuracy: {accuracy_combined}')"
   ]
  },
  {
   "cell_type": "markdown",
   "metadata": {},
   "source": [
    "### Adjusting Prediction Threshold\n",
    "\n",
    "A key aspect of model evaluation involves adjusting the prediction threshold. This adjustment can help in achieving a balance between sensitivity and specificity, based on the prediction problem's requirements. Here, we experiment with a new threshold to see its impact on the model's accuracy."
   ]
  },
  {
   "cell_type": "code",
   "execution_count": 36,
   "metadata": {},
   "outputs": [
    {
     "name": "stdout",
     "output_type": "stream",
     "text": [
      "Adjusted AdaBoost Decision Tree Accuracy: 0.8393782383419689\n"
     ]
    }
   ],
   "source": [
    "# Get probabilities of the positive class\n",
    "y_probs = ada_boost_clf.predict_proba(X_test)[:, 1]\n",
    "\n",
    "# Define a new threshold\n",
    "new_threshold = 0.4  # Example threshold\n",
    "\n",
    "# Apply new threshold to get the adjusted predictions\n",
    "y_pred_adjusted = np.where(y_probs > new_threshold, 1, 0)\n",
    "\n",
    "# Calculate and print the adjusted accuracy\n",
    "accuracy_adjusted = accuracy_score(y_test, y_pred_adjusted)\n",
    "print(f'Adjusted AdaBoost Decision Tree Accuracy: {accuracy_adjusted}')"
   ]
  },
  {
   "cell_type": "markdown",
   "metadata": {},
   "source": [
    "### Evaluating the Model\n",
    "\n",
    "The final step in model training is to evaluate the performance of our classifier. We do this by calculating the confusion matrix and classification report, which provide insights into the accuracy, precision, recall, and F1-score of the model."
   ]
  },
  {
   "cell_type": "code",
   "execution_count": 37,
   "metadata": {},
   "outputs": [
    {
     "data": {
      "image/png": "[encoded data removed]",
      "text/plain": [
       "<Figure size 640x480 with 2 Axes>"
      ]
     },
     "metadata": {},
     "output_type": "display_data"
    },
    {
     "name": "stdout",
     "output_type": "stream",
     "text": [
      "\n",
      "Classification Report:\n",
      "               precision    recall  f1-score   support\n",
      "\n",
      "           0       0.88      0.74      0.81        86\n",
      "           1       0.82      0.92      0.86       107\n",
      "\n",
      "    accuracy                           0.84       193\n",
      "   macro avg       0.85      0.83      0.83       193\n",
      "weighted avg       0.84      0.84      0.84       193\n",
      "\n"
     ]
    }
   ],
   "source": [
    "# Print confusion matrix and classification report\n",
    "cm = confusion_matrix(y_test, y_pred_adjusted)\n",
    "\n",
    "sns.heatmap(cm, annot=True)\n",
    "\n",
    "plt.show()\n",
    "\n",
    "cr = classification_report(y_test, y_pred_adjusted)\n",
    "print(\"\\nClassification Report:\\n\", cr)"
   ]
  },
  {
   "cell_type": "markdown",
   "metadata": {},
   "source": [
    "Through these evaluation metrics, we can assess the model's ability to classify instances accurately and understand its strengths and weaknesses in predicting heart disease. This critical analysis guides us in making any necessary adjustments to improve model performance further."
   ]
  },
  {
   "cell_type": "markdown",
   "metadata": {},
   "source": [
    "### Testing on New Data\n",
    "\n",
    "Having trained and evaluated our model on a training dataset, the next critical step is to test its performance on new, unseen data. This step is essential for understanding how well our model generalizes to data it has not encountered before. We follow the same data preprocessing steps for the new dataset as we did for the training dataset. Finally, we use our trained model to make predictions on this new data and prepare a submission file with these predictions.\n",
    "\n",
    "#### Preparing the Test Data\n",
    "\n",
    "The new data must be preprocessed to match the format expected by the model. This involves filtering out missing or implausible values, creating interaction terms, encoding categorical variables, adding polynomial features, and scaling the features, just as we did with the training data.\n"
   ]
  },
  {
   "cell_type": "code",
   "execution_count": 38,
   "metadata": {},
   "outputs": [],
   "source": [
    "# Import the test dataset\n",
    "test = pd.read_csv('test_heart.csv', sep=',')\n",
    "\n",
    "# Apply the same preprocessing steps to the test data\n",
    "# Filter out missing or implausible values for Cholesterol and RestingBP\n",
    "chol_median = test.loc[test['Cholesterol'] != 0, 'Cholesterol'].median()\n",
    "test['Cholesterol'].replace(0, chol_median, inplace=True)\n",
    "\n",
    "resting_median = test.loc[test['RestingBP'] != 0, 'RestingBP'].median()\n",
    "test['RestingBP'].replace(0, resting_median, inplace=True)\n",
    "\n",
    "# Create interaction term\n",
    "test['Age_Chol_Interact'] = test['Age'] * test['Cholesterol']\n",
    "\n",
    "# Prepare the test data\n",
    "X_new = test.drop(['id'], axis=1)\n",
    "\n",
    "# Encode and transform the test data using the same encoder and transformers\n",
    "X_new_encoded = encoder.transform(X_new)\n",
    "X_new_poly = poly.transform(X_new_encoded)\n",
    "X_new_scaled = scaler.transform(X_new_poly)\n",
    "\n",
    "# Predict with each model\n",
    "y_new_pred_ada = ada_boost_clf.predict(X_new_scaled)\n",
    "y_new_pred_rf = rf_clf.predict(X_new_scaled)\n",
    "y_new_pred_log_reg = log_reg.predict(X_new_scaled)"
   ]
  },
  {
   "cell_type": "markdown",
   "metadata": {},
   "source": [
    "#### Making Predictions and Adjusting Threshold\n",
    "\n",
    "With the test data prepared, we predict the likelihood of heart disease. We then apply a chosen threshold to these predictions to classify each instance as either having heart disease or not. This threshold is adjustable based on the specific requirements of the task or the desired balance between sensitivity and specificity."
   ]
  },
  {
   "cell_type": "code",
   "execution_count": 39,
   "metadata": {},
   "outputs": [
    {
     "name": "stdout",
     "output_type": "stream",
     "text": [
      "Final combined predictions saved as ./final_submission.csv\n"
     ]
    }
   ],
   "source": [
    "# # Predict probabilities for the test data\n",
    "# y_new_probs = ada_boost_clf.predict_proba(X_new_scaled)[:, 1]\n",
    "\n",
    "# # Apply the chosen threshold to classify each instance\n",
    "# chosen_threshold = 0.4  # This threshold can be adjusted\n",
    "# y_new_pred_adjusted = np.where(y_new_probs > chosen_threshold, 1, 0)\n",
    "\n",
    "# Combine the predictions\n",
    "combined_new_predictions = np.array([y_new_pred_ada, y_new_pred_rf, y_new_pred_log_reg])\n",
    "\n",
    "# Determine the final prediction by majority vote\n",
    "final_new_predictions = np.apply_along_axis(lambda x: 1 if np.sum(x) > 1 else 0, axis=0, arr=combined_new_predictions)\n",
    "\n",
    "# CREATE PANDAS DATAFRAME FOR SUBMISSION with combined predictions\n",
    "final_id_to_prediction_df = pd.DataFrame({\n",
    "    'id': test['id'],\n",
    "    'HeartDisease': final_new_predictions\n",
    "})\n",
    "\n",
    "\n",
    "# OUTPUT TO CSV\n",
    "final_file_name = './final_submission.csv'\n",
    "final_id_to_prediction_df.to_csv(final_file_name, index=False)\n",
    "\n",
    "print(f\"Final combined predictions saved as {final_file_name}\")"
   ]
  },
  {
   "cell_type": "markdown",
   "metadata": {},
   "source": [
    "#### Preparing the Submission File\n",
    "\n",
    "Finally, we prepare a submission file that includes the predictions for the new data. This file typically contains an ID for each instance and the corresponding prediction. This step is especially relevant in competition or operational settings where predictions need to be shared or deployed."
   ]
  },
  {
   "cell_type": "code",
   "execution_count": null,
   "metadata": {},
   "outputs": [],
   "source": [
    "# Create a DataFrame for submission\n",
    "id_to_prediction_df = pd.DataFrame({\n",
    "    'id': test['id'],\n",
    "    'HeartDisease': y_new_pred_adjusted\n",
    "})\n",
    "\n",
    "# Output the submission file\n",
    "file_name = '/mnt/data/submission_test.csv'\n",
    "id_to_prediction_df.to_csv(file_name, index=False)\n",
    "\n",
    "print(f\"File saved as {file_name}\")"
   ]
  },
  {
   "cell_type": "markdown",
   "metadata": {},
   "source": [
    "This step concludes our process of developing a model to predict heart disease. By carefully preparing the test data, making informed predictions, and generating a submission file, we have applied our model to new data, showcasing its potential for real-world applications."
   ]
  },
  {
   "cell_type": "code",
   "execution_count": 23,
   "metadata": {},
   "outputs": [
    {
     "data": {
      "image/png": "[encoded data removed]",
      "text/plain": [
       "<Figure size 800x600 with 1 Axes>"
      ]
     },
     "metadata": {},
     "output_type": "display_data"
    },
    {
     "data": {
      "image/png": "[encoded data removed]",
      "text/plain": [
       "<Figure size 1000x500 with 1 Axes>"
      ]
     },
     "metadata": {},
     "output_type": "display_data"
    }
   ],
   "source": [
    "from sklearn.metrics import (classification_report, confusion_matrix, f1_score,\n",
    "                             precision_score, recall_score, accuracy_score,\n",
    "                             roc_auc_score, roc_curve)\n",
    "from sklearn.metrics import precision_recall_curve, auc\n",
    "\n",
    "\n",
    "def plot_precision_recall_curve(y_true, y_scores):\n",
    "    \"\"\"\n",
    "    Plot Precision-Recall curve for the model.\n",
    "    \n",
    "    Parameters:\n",
    "    - y_true: Actual target values.\n",
    "    - y_scores: Target scores, can either be probability estimates of the positive class.\n",
    "    \"\"\"\n",
    "    precision, recall, _ = precision_recall_curve(y_true, y_scores)\n",
    "    auc_score = auc(recall, precision)\n",
    "    \n",
    "    plt.figure(figsize=(8, 6))\n",
    "    plt.plot(recall, precision, label=f'Precision-Recall curve (area = {auc_score:.2f})')\n",
    "    plt.xlabel('Recall')\n",
    "    plt.ylabel('Precision')\n",
    "    plt.title('Precision-Recall Curve')\n",
    "    plt.legend(loc='best')\n",
    "    plt.show()\n",
    "\n",
    "\n",
    "plot_precision_recall_curve(y_test, y_probs)\n",
    "\n",
    "\n",
    "def performance_metrics(y_true, y_pred):\n",
    "    \"\"\"Calculate and print model performance metrics.\"\"\"\n",
    "    # Calculate metrics\n",
    "    f1 = f1_score(y_true, y_pred, average='weighted')\n",
    "    precision = precision_score(y_true, y_pred, average='weighted')\n",
    "    recall = recall_score(y_true, y_pred, average='weighted')\n",
    "    accuracy = accuracy_score(y_true, y_pred)\n",
    "    \n",
    "    # Print metrics\n",
    "    print(f'F1-Score: {f1:.5f}\\nPrecision: {precision:.5f}\\nRecall: {recall:.5f}\\nAccuracy: {accuracy:.5f}')\n",
    "\n",
    "\n",
    "def roc_curve_plot(y_true, y_probs):\n",
    "    \"\"\"Plot ROC curve based on true labels and predicted probabilities.\"\"\"\n",
    "    roc_auc = roc_auc_score(y_true, y_probs)\n",
    "    fpr, tpr, _ = roc_curve(y_true, y_probs)\n",
    "    \n",
    "    plt.plot(fpr, tpr, label=f'ROC Curve (AUC = {roc_auc:.3f})')\n",
    "    plt.xlabel('False Positive Rate')\n",
    "    plt.ylabel('True Positive Rate')\n",
    "    plt.legend(loc='lower right')\n",
    "    plt.title('ROC Curve')\n",
    "    plt.savefig('roc_curve.png')\n",
    "    plt.show()\n",
    "\n",
    "def confusion_matrix_heatmap(y_true, y_pred):\n",
    "    \"\"\"Generate and display a confusion matrix heatmap.\"\"\"\n",
    "    conf_matrix = confusion_matrix(y_true, y_pred)\n",
    "    sns.heatmap(conf_matrix, annot=True, fmt='d', cmap='Blues', xticklabels=['No', 'Yes'], yticklabels=['No', 'Yes'])\n",
    "    plt.title('Confusion Matrix')\n",
    "    plt.xlabel('Predicted Label')\n",
    "    plt.ylabel('True Label')\n",
    "    plt.savefig('confusion_matrix_heatmap.png')\n",
    "    plt.show()\n",
    "\n",
    "\n",
    "def plot_feature_importance(model, feature_names, top_n_features=20):\n",
    "    \"\"\"\n",
    "    Plot the importance of features in the model.\n",
    "    \n",
    "    Parameters:\n",
    "    - model: The trained model.\n",
    "    - feature_names: List of names corresponding to the features used by the model.\n",
    "    \"\"\"\n",
    "    # Extract feature importance from the model\n",
    "    importances = model.feature_importances_\n",
    "    \n",
    "    # Sort feature importances in descending order and select the top N\n",
    "    indices = np.argsort(importances)[::-1][:top_n_features]\n",
    "    \n",
    "    # Rearrange feature names so they match the sorted feature importances\n",
    "    names = [feature_names[i] for i in indices]\n",
    "    sorted_importances = importances[indices]\n",
    "    \n",
    "    # Create plot\n",
    "    plt.figure(figsize=(10, 5))\n",
    "    plt.title(\"Top {} Feature Importance\".format(top_n_features))\n",
    "    plt.bar(range(top_n_features), sorted_importances, align='center')\n",
    "    \n",
    "    # Add feature names as x-axis labels\n",
    "    plt.xticks(range(top_n_features), names, rotation=45, ha='right')\n",
    "    \n",
    "    plt.tight_layout()  # Adjust layout to make room for the rotated x-axis labels\n",
    "    plt.show()\n",
    "\n",
    "\n",
    "plot_feature_importance(ada_boost_clf, poly_feature_names)\n",
    "\n"
   ]
  },
  {
   "cell_type": "code",
   "execution_count": 56,
   "metadata": {},
   "outputs": [
    {
     "name": "stdout",
     "output_type": "stream",
     "text": [
      "Fitting 5 folds for each of 1296 candidates, totalling 6480 fits\n"
     ]
    },
    {
     "ename": "TypeError",
     "evalue": "LinearRegression.__init__() got an unexpected keyword argument 'max_iter'",
     "output_type": "error",
     "traceback": [
      "\u001b[1;31m---------------------------------------------------------------------------\u001b[0m",
      "\u001b[1;31mTypeError\u001b[0m                                 Traceback (most recent call last)",
      "Cell \u001b[1;32mIn[56], line 97\u001b[0m\n\u001b[0;32m     89\u001b[0m base_est \u001b[38;5;241m=\u001b[39m grid_search_extended\u001b[38;5;241m.\u001b[39mbest_estimator_  \u001b[38;5;66;03m# Use the best estimator directly\u001b[39;00m\n\u001b[0;32m     92\u001b[0m \u001b[38;5;66;03m# Stacking Ensemble\u001b[39;00m\n\u001b[0;32m     93\u001b[0m \u001b[38;5;66;03m# Define base models\u001b[39;00m\n\u001b[0;32m     94\u001b[0m base_models \u001b[38;5;241m=\u001b[39m [\n\u001b[0;32m     95\u001b[0m     (\u001b[38;5;124m'\u001b[39m\u001b[38;5;124mada_boost\u001b[39m\u001b[38;5;124m'\u001b[39m, AdaBoostClassifier(estimator\u001b[38;5;241m=\u001b[39mbase_est, n_estimators\u001b[38;5;241m=\u001b[39m\u001b[38;5;241m100\u001b[39m, random_state\u001b[38;5;241m=\u001b[39m\u001b[38;5;241m42\u001b[39m)),\n\u001b[0;32m     96\u001b[0m     (\u001b[38;5;124m'\u001b[39m\u001b[38;5;124mrandom_forest\u001b[39m\u001b[38;5;124m'\u001b[39m, RandomForestClassifier(n_estimators\u001b[38;5;241m=\u001b[39m\u001b[38;5;241m100\u001b[39m, random_state\u001b[38;5;241m=\u001b[39m\u001b[38;5;241m42\u001b[39m)),\n\u001b[1;32m---> 97\u001b[0m     (\u001b[38;5;124m'\u001b[39m\u001b[38;5;124mlogistic_regression\u001b[39m\u001b[38;5;124m'\u001b[39m, \u001b[43mLinearRegression\u001b[49m\u001b[43m(\u001b[49m\u001b[43mmax_iter\u001b[49m\u001b[38;5;241;43m=\u001b[39;49m\u001b[38;5;241;43m1000\u001b[39;49m\u001b[43m,\u001b[49m\u001b[43m \u001b[49m\u001b[43mrandom_state\u001b[49m\u001b[38;5;241;43m=\u001b[39;49m\u001b[38;5;241;43m42\u001b[39;49m\u001b[43m)\u001b[49m)\n\u001b[0;32m     98\u001b[0m ]\n\u001b[0;32m    100\u001b[0m \u001b[38;5;66;03m# Define the meta-model\u001b[39;00m\n\u001b[0;32m    101\u001b[0m meta_model \u001b[38;5;241m=\u001b[39m LogisticRegression()\n",
      "\u001b[1;31mTypeError\u001b[0m: LinearRegression.__init__() got an unexpected keyword argument 'max_iter'"
     ]
    }
   ],
   "source": [
    "import pandas as pd\n",
    "from sklearn.model_selection import train_test_split, GridSearchCV\n",
    "from sklearn.metrics import accuracy_score\n",
    "from sklearn.pipeline import Pipeline\n",
    "from sklearn.preprocessing import PolynomialFeatures, StandardScaler, OneHotEncoder\n",
    "import category_encoders as ce\n",
    "from sklearn.ensemble import AdaBoostClassifier\n",
    "from sklearn.tree import DecisionTreeClassifier\n",
    "from sklearn.ensemble import RandomForestClassifier\n",
    "from sklearn.linear_model import LinearRegression\n",
    "import numpy as np\n",
    "from sklearn.metrics import confusion_matrix, classification_report\n",
    "from sklearn.linear_model import LogisticRegression\n",
    "from sklearn.ensemble import VotingClassifier\n",
    "from sklearn.compose import ColumnTransformer\n",
    "\n",
    "\n",
    "# IMPORT CSV\n",
    "hearts = pd.read_csv('train_heart.csv', sep=',')\n",
    "\n",
    "# FILTER VALUES FOR CHOLESTEROL AND RESTINGBP\n",
    "chol_median = hearts.loc[hearts['Cholesterol'] != 0, 'Cholesterol'].median()\n",
    "hearts['Cholesterol'].replace(0, chol_median, inplace=True)\n",
    "resting_median = hearts.loc[hearts['RestingBP'] != 0, 'RestingBP'].median()\n",
    "hearts['RestingBP'].replace(0, resting_median, inplace=True)\n",
    "\n",
    "# CREATE INTERACTION TERM\n",
    "hearts['Age_Chol_Interact'] = hearts['Age'] * hearts['Cholesterol']\n",
    "\n",
    "# DROP UNNECESSARY COLUMNS AND FIND y\n",
    "X = hearts.drop(['id', 'HeartDisease'], axis=1)\n",
    "y = hearts['HeartDisease']\n",
    "\n",
    "# Define preprocessing for numerical columns\n",
    "numerical_features = ['Age', 'RestingBP', 'Cholesterol', 'FastingBS', 'MaxHR', 'Oldpeak', 'Age_Chol_Interact']\n",
    "numerical_transformer = Pipeline(steps=[\n",
    "    ('poly', PolynomialFeatures(degree=2, include_bias=False)),\n",
    "    ('scaler', StandardScaler())\n",
    "])\n",
    "\n",
    "# Define preprocessing for categorical columns\n",
    "categorical_features = ['Sex', 'ChestPainType', 'RestingECG', 'ExerciseAngina', 'ST_Slope']\n",
    "categorical_transformer = OneHotEncoder()\n",
    "\n",
    "# Create a column transformer to apply the transformations to the respective column types\n",
    "preprocessor = ColumnTransformer(\n",
    "    transformers=[\n",
    "        ('num', numerical_transformer, numerical_features),\n",
    "        ('cat', categorical_transformer, categorical_features)\n",
    "    ])\n",
    "\n",
    "# ENCODE CATEGORICAL VARIABLES\n",
    "encoder = ce.OrdinalEncoder(cols=X.select_dtypes(include=['object']).columns)\n",
    "X_encoded = encoder.fit_transform(X)\n",
    "\n",
    "# ADD POLYNOMIAL FEATURES\n",
    "poly = PolynomialFeatures(degree=2, include_bias=False)\n",
    "X_poly = poly.fit_transform(X_encoded)\n",
    "\n",
    "# SCALE FEATURES\n",
    "scaler = StandardScaler()\n",
    "X_scaled = scaler.fit_transform(X_poly)\n",
    "\n",
    "# DATA SPLITTING\n",
    "X_train, X_test, y_train, y_test = train_test_split(X_scaled, y, test_size=0.3, random_state=42)\n",
    "\n",
    "# Define the parameter grid to search\n",
    "param_grid_extended = {\n",
    "    'max_depth': [None, 10, 20, 30, 40, 50],\n",
    "    'min_samples_split': [2, 5, 10],\n",
    "    'min_samples_leaf': [1, 2, 4],\n",
    "    'ccp_alpha': [0.0, 0.001, 0.005, 0.01, 0.05, 0.1],\n",
    "    'splitter': ['best', 'random'],\n",
    "    'class_weight': [None, 'balanced']\n",
    "}\n",
    "\n",
    "# Updating the GridSearchCV setup\n",
    "grid_search_extended = GridSearchCV(estimator=DecisionTreeClassifier(random_state=42),\n",
    "                                    param_grid=param_grid_extended,\n",
    "                                    cv=5,\n",
    "                                    scoring='accuracy',\n",
    "                                    verbose=1,\n",
    "                                    n_jobs=-1)\n",
    "\n",
    "# Fit the model with grid search\n",
    "grid_search_extended.fit(X_train, y_train)\n",
    "\n",
    "# Now you can access best_params_\n",
    "base_est = grid_search_extended.best_estimator_  # Use the best estimator directly\n",
    "\n",
    "\n",
    "# Stacking Ensemble\n",
    "# Define base models\n",
    "base_models = [\n",
    "    ('ada_boost', AdaBoostClassifier(estimator=base_est, n_estimators=100, random_state=42)),\n",
    "    ('random_forest', RandomForestClassifier(n_estimators=100, random_state=42)),\n",
    "    ('logistic_regression', LinearRegression())\n",
    "]\n",
    "\n",
    "# Define the meta-model\n",
    "meta_model = LogisticRegression()\n",
    "\n",
    "# Define the stacking ensemble\n",
    "stacking_ensemble = VotingClassifier(estimators=base_models, voting=\"hard\", n_jobs=-1)\n",
    "\n",
    "# Fit the stacking ensemble model on the training data\n",
    "stacking_ensemble.fit(X_train, y_train)\n",
    "\n",
    "# Predict on the test set with the stacking ensemble model\n",
    "y_pred_stacking = stacking_ensemble.predict(X_test)\n",
    "\n",
    "# Calculate and print the stacking ensemble model accuracy\n",
    "accuracy_stacking = accuracy_score(y_test, y_pred_stacking)\n",
    "print(f'Stacking Ensemble Model Accuracy: {accuracy_stacking}')\n",
    "\n",
    "# TESTING PART\n",
    "# IMPORT CSV\n",
    "test = pd.read_csv('test_heart.csv', sep=',')\n",
    "\n",
    "# FILTER VALUES FOR CHOLESTEROL AND RESTINGBP\n",
    "chol_median = test.loc[test['Cholesterol'] != 0, 'Cholesterol'].median()\n",
    "test['Cholesterol'].replace(0, chol_median, inplace=True)\n",
    "\n",
    "resting_median = test.loc[test['RestingBP'] != 0, 'RestingBP'].median()\n",
    "test['RestingBP'].replace(0, resting_median, inplace=True)\n",
    "\n",
    "# CREATE INTERACTION TERM\n",
    "test['Age_Chol_Interact'] = test['Age'] * test['Cholesterol']\n",
    "\n",
    "# Prepare the test data following the same steps as for the training data\n",
    "X_new = test.drop(['id'], axis=1)\n",
    "\n",
    "# ENCODE X using the same encoder\n",
    "X_new_encoded = encoder.transform(X_new)\n",
    "\n",
    "# ADD POLYNOMIAL FEATURES AND SCALE using the same transformers\n",
    "X_new_poly = poly.transform(X_new_encoded)\n",
    "X_new_scaled = scaler.transform(X_new_poly)\n",
    "\n",
    "# Predict with the stacking ensemble model on the processed test data\n",
    "y_new_pred_stacking = stacking_ensemble.predict(X_new_scaled)\n",
    "\n",
    "# No need for applying a separate threshold here as we're using direct predictions from the stacking model\n",
    "\n",
    "# CREATE PANDAS DATAFRAME FOR SUBMISSION with predictions from the stacking ensemble model\n",
    "id_to_prediction_df = pd.DataFrame({\n",
    "    'id': test['id'],\n",
    "    'HeartDisease': y_new_pred_stacking\n",
    "})\n",
    "\n",
    "# OUTPUT TO CSV file for submission or further analysis\n",
    "file_name = './final_submission_stacking.csv'\n",
    "id_to_prediction_df.to_csv(file_name, index=False)\n",
    "\n",
    "print(f\"File saved as {file_name}\")\n"
   ]
  },
  {
   "cell_type": "code",
   "execution_count": null,
   "metadata": {},
   "outputs": [],
   "source": []
  }
 ],
 "metadata": {
  "kernelspec": {
   "display_name": "Python 3",
   "language": "python",
   "name": "python3"
  },
  "language_info": {
   "codemirror_mode": {
    "name": "ipython",
    "version": 3
   },
   "file_extension": ".py",
   "mimetype": "text/x-python",
   "name": "python",
   "nbconvert_exporter": "python",
   "pygments_lexer": "ipython3",
   "version": "3.12.1"
  }
 },
 "nbformat": 4,
 "nbformat_minor": 2
}
