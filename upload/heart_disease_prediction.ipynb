{
 "cells": [
  {
   "cell_type": "markdown",
   "metadata": {},
   "source": [
    "# Heart Disease Prediction\n",
    "\n",
    "This notebook aims to predict heart disease using various machine learning techniques. The dataset includes several medical attributes that contribute to heart disease outcomes. We will perform data preprocessing, explore the creation of interaction terms, encode categorical variables, and apply machine learning models to predict the presence of heart disease.\n",
    "\n",
    "# Made by: German Novykov, Pidnebesnyi Alex, Mark Vaikul"
   ]
  },
  {
   "cell_type": "markdown",
   "metadata": {},
   "source": [
    "### Import Libraries"
   ]
  },
  {
   "cell_type": "code",
   "execution_count": null,
   "metadata": {},
   "outputs": [],
   "source": [
    "!pip install sweetviz\n",
    "!pip install --upgrade setuptools"
   ]
  },
  {
   "cell_type": "code",
   "execution_count": 2,
   "metadata": {},
   "outputs": [
    {
     "name": "stderr",
     "output_type": "stream",
     "text": [
      "C:\\Users\\Windows\\AppData\\Roaming\\Python\\Python312\\site-packages\\tqdm\\auto.py:21: TqdmWarning: IProgress not found. Please update jupyter and ipywidgets. See https://ipywidgets.readthedocs.io/en/stable/user_install.html\n",
      "  from .autonotebook import tqdm as notebook_tqdm\n"
     ]
    }
   ],
   "source": [
    "import pandas as pd\n",
    "from sklearn.model_selection import train_test_split, GridSearchCV\n",
    "from sklearn.metrics import accuracy_score, confusion_matrix, classification_report\n",
    "from sklearn.preprocessing import PolynomialFeatures, StandardScaler, OneHotEncoder\n",
    "import category_encoders as ce\n",
    "from sklearn.ensemble import AdaBoostClassifier\n",
    "from sklearn.tree import DecisionTreeClassifier\n",
    "from sklearn.ensemble import VotingClassifier\n",
    "from sklearn.compose import ColumnTransformer\n",
    "from sklearn.linear_model import LogisticRegression\n",
    "from sklearn.pipeline import Pipeline\n",
    "from sklearn.ensemble import RandomForestClassifier\n",
    "import matplotlib.pyplot as plt\n",
    "import seaborn as sns\n",
    "import numpy as np\n",
    "import sweetviz as sv"
   ]
  },
  {
   "cell_type": "markdown",
   "metadata": {},
   "source": [
    "### Data Loading and Preliminary Exploration\n",
    "\n",
    "We start by loading the training and test datasets and conduct a brief exploration to understand the structure and type of data we are dealing with."
   ]
  },
  {
   "cell_type": "code",
   "execution_count": 3,
   "metadata": {},
   "outputs": [
    {
     "data": {
      "text/html": [
       "<div>\n",
       "<style scoped>\n",
       "    .dataframe tbody tr th:only-of-type {\n",
       "        vertical-align: middle;\n",
       "    }\n",
       "\n",
       "    .dataframe tbody tr th {\n",
       "        vertical-align: top;\n",
       "    }\n",
       "\n",
       "    .dataframe thead th {\n",
       "        text-align: right;\n",
       "    }\n",
       "</style>\n",
       "<table border=\"1\" class=\"dataframe\">\n",
       "  <thead>\n",
       "    <tr style=\"text-align: right;\">\n",
       "      <th></th>\n",
       "      <th>id</th>\n",
       "      <th>Age</th>\n",
       "      <th>Sex</th>\n",
       "      <th>ChestPainType</th>\n",
       "      <th>RestingBP</th>\n",
       "      <th>Cholesterol</th>\n",
       "      <th>FastingBS</th>\n",
       "      <th>RestingECG</th>\n",
       "      <th>MaxHR</th>\n",
       "      <th>ExerciseAngina</th>\n",
       "      <th>Oldpeak</th>\n",
       "      <th>ST_Slope</th>\n",
       "      <th>HeartDisease</th>\n",
       "    </tr>\n",
       "  </thead>\n",
       "  <tbody>\n",
       "    <tr>\n",
       "      <th>0</th>\n",
       "      <td>563</td>\n",
       "      <td>55</td>\n",
       "      <td>M</td>\n",
       "      <td>ASY</td>\n",
       "      <td>135</td>\n",
       "      <td>204</td>\n",
       "      <td>1</td>\n",
       "      <td>ST</td>\n",
       "      <td>126</td>\n",
       "      <td>Y</td>\n",
       "      <td>1.1</td>\n",
       "      <td>Flat</td>\n",
       "      <td>1</td>\n",
       "    </tr>\n",
       "    <tr>\n",
       "      <th>1</th>\n",
       "      <td>884</td>\n",
       "      <td>67</td>\n",
       "      <td>M</td>\n",
       "      <td>ASY</td>\n",
       "      <td>160</td>\n",
       "      <td>286</td>\n",
       "      <td>0</td>\n",
       "      <td>LVH</td>\n",
       "      <td>108</td>\n",
       "      <td>Y</td>\n",
       "      <td>1.5</td>\n",
       "      <td>Flat</td>\n",
       "      <td>1</td>\n",
       "    </tr>\n",
       "    <tr>\n",
       "      <th>2</th>\n",
       "      <td>352</td>\n",
       "      <td>56</td>\n",
       "      <td>M</td>\n",
       "      <td>ASY</td>\n",
       "      <td>120</td>\n",
       "      <td>0</td>\n",
       "      <td>0</td>\n",
       "      <td>ST</td>\n",
       "      <td>100</td>\n",
       "      <td>Y</td>\n",
       "      <td>-1.0</td>\n",
       "      <td>Down</td>\n",
       "      <td>1</td>\n",
       "    </tr>\n",
       "    <tr>\n",
       "      <th>3</th>\n",
       "      <td>694</td>\n",
       "      <td>56</td>\n",
       "      <td>M</td>\n",
       "      <td>ATA</td>\n",
       "      <td>120</td>\n",
       "      <td>236</td>\n",
       "      <td>0</td>\n",
       "      <td>Normal</td>\n",
       "      <td>178</td>\n",
       "      <td>N</td>\n",
       "      <td>0.8</td>\n",
       "      <td>Up</td>\n",
       "      <td>0</td>\n",
       "    </tr>\n",
       "    <tr>\n",
       "      <th>4</th>\n",
       "      <td>491</td>\n",
       "      <td>75</td>\n",
       "      <td>M</td>\n",
       "      <td>ASY</td>\n",
       "      <td>170</td>\n",
       "      <td>203</td>\n",
       "      <td>1</td>\n",
       "      <td>ST</td>\n",
       "      <td>108</td>\n",
       "      <td>N</td>\n",
       "      <td>0.0</td>\n",
       "      <td>Flat</td>\n",
       "      <td>1</td>\n",
       "    </tr>\n",
       "  </tbody>\n",
       "</table>\n",
       "</div>"
      ],
      "text/plain": [
       "    id  Age Sex ChestPainType  RestingBP  Cholesterol  FastingBS RestingECG  \\\n",
       "0  563   55   M           ASY        135          204          1         ST   \n",
       "1  884   67   M           ASY        160          286          0        LVH   \n",
       "2  352   56   M           ASY        120            0          0         ST   \n",
       "3  694   56   M           ATA        120          236          0     Normal   \n",
       "4  491   75   M           ASY        170          203          1         ST   \n",
       "\n",
       "   MaxHR ExerciseAngina  Oldpeak ST_Slope  HeartDisease  \n",
       "0    126              Y      1.1     Flat             1  \n",
       "1    108              Y      1.5     Flat             1  \n",
       "2    100              Y     -1.0     Down             1  \n",
       "3    178              N      0.8       Up             0  \n",
       "4    108              N      0.0     Flat             1  "
      ]
     },
     "execution_count": 3,
     "metadata": {},
     "output_type": "execute_result"
    }
   ],
   "source": [
    "# Load the data\n",
    "train_data = pd.read_csv('train_heart.csv', sep=',')\n",
    "test_data = pd.read_csv('test_heart.csv', sep=',')\n",
    "\n",
    "# Display the first few rows of the training data\n",
    "train_data.head()"
   ]
  },
  {
   "cell_type": "code",
   "execution_count": 3,
   "metadata": {},
   "outputs": [
    {
     "name": "stderr",
     "output_type": "stream",
     "text": [
      "Done! Use 'show' commands to display/save.   |██████████| [100%]   00:00 -> (00:00 left)\n"
     ]
    },
    {
     "name": "stdout",
     "output_type": "stream",
     "text": [
      "Report heart_analysis.html was generated! NOTEBOOK/COLAB USERS: the web browser MAY not pop up, regardless, the report IS saved in your notebook/colab files.\n"
     ]
    }
   ],
   "source": [
    "report = sv.analyze(train_data)\n",
    "\n",
    "report.show_html('heart_analysis.html')"
   ]
  },
  {
   "cell_type": "markdown",
   "metadata": {},
   "source": [
    "### Data Preprocessing\n",
    "\n",
    "In this section, we address missing values, create interaction terms, encode categorical variables, and scale the features to prepare our data for modeling."
   ]
  },
  {
   "cell_type": "markdown",
   "metadata": {},
   "source": [
    "First, we address potential outliers and missing values in the dataset. Specifically, we focus on two important variables: `Cholesterol` and `RestingBP` (Resting Blood Pressure). Zero values in these variables are not plausible and likely indicate missing or incorrectly recorded data. We replace these zero values with the median value of the respective variable, which is a robust measure of central tendency that is less sensitive to outliers."
   ]
  },
  {
   "cell_type": "code",
   "execution_count": 4,
   "metadata": {},
   "outputs": [],
   "source": [
    "# Filter values for Cholesterol and RestingBP\n",
    "chol_median = train_data.loc[train_data['Cholesterol'] != 0, 'Cholesterol'].median()\n",
    "train_data['Cholesterol'].replace(0, chol_median, inplace=True)\n",
    "\n",
    "resting_median = train_data.loc[train_data['RestingBP'] != 0, 'RestingBP'].median()\n",
    "train_data['RestingBP'].replace(0, resting_median, inplace=True)"
   ]
  },
  {
   "cell_type": "markdown",
   "metadata": {},
   "source": [
    "#### Create Interaction Term\n",
    "\n",
    "Interaction terms can capture the effect of two or more variables acting together on the target variable. Here, we create an interaction term between `Age` and `Cholesterol`, hypothesizing that the combination of these variables might have a different effect on heart disease risk compared to considering them individually."
   ]
  },
  {
   "cell_type": "code",
   "execution_count": 5,
   "metadata": {},
   "outputs": [],
   "source": [
    "train_data['Age_Chol_Interact'] = train_data['Age'] * train_data['Cholesterol']"
   ]
  },
  {
   "cell_type": "markdown",
   "metadata": {},
   "source": [
    "#### Encode Categorical Variables\n",
    "\n",
    "Many machine learning models cannot handle categorical variables unless they are converted into numerical values. We use ordinal encoding to transform these variables into a numerical format while preserving the order of categories when applicable."
   ]
  },
  {
   "cell_type": "code",
   "execution_count": 6,
   "metadata": {},
   "outputs": [],
   "source": [
    "# ENCODE CATEGORICAL VARIABLES\n",
    "\n",
    "categorical_columns = train_data.select_dtypes(include=['object']).columns\n",
    "\n",
    "ordinal_encoder  = ce.OrdinalEncoder(cols=categorical_columns)\n",
    "features_encoded  = ordinal_encoder.fit_transform(train_data.drop(['id', 'HeartDisease'], axis=1))"
   ]
  },
  {
   "cell_type": "markdown",
   "metadata": {},
   "source": [
    "#### Add Polynomial Features\n",
    "\n",
    "Polynomial features are generated by raising existing features to an exponent. This technique helps to capture interactions between the original features by adding squared or higher order terms of the features. It can uncover complex relationships between features and the target variable."
   ]
  },
  {
   "cell_type": "code",
   "execution_count": 7,
   "metadata": {},
   "outputs": [],
   "source": [
    "# Instantiate and apply PolynomialFeatures\n",
    "poly_features_transformer = PolynomialFeatures(degree=2, include_bias=False)\n",
    "features_poly = poly_features_transformer.fit_transform(features_encoded)\n",
    "polynomial_feature_names = poly_features_transformer.get_feature_names_out(input_features=ordinal_encoder.get_feature_names_out())"
   ]
  },
  {
   "cell_type": "markdown",
   "metadata": {},
   "source": [
    "#### Scale Features\n",
    "Feature scaling is essential to normalize the range of independent variables or features of data. In the absence of scaling, the model might get biased toward high values. We use StandardScaler for this purpose, which standardizes features by removing the mean and scaling to unit variance."
   ]
  },
  {
   "cell_type": "code",
   "execution_count": 8,
   "metadata": {},
   "outputs": [],
   "source": [
    "standard_scaler = StandardScaler()\n",
    "features_scaled = standard_scaler.fit_transform(features_poly)"
   ]
  },
  {
   "cell_type": "markdown",
   "metadata": {},
   "source": [
    "The final step in data preprocessing is splitting the dataset into training and test sets. This allows us to train our model on one subset of the data and then test it on a separate subset to evaluate its performance."
   ]
  },
  {
   "cell_type": "code",
   "execution_count": 9,
   "metadata": {},
   "outputs": [],
   "source": [
    "# Define the target variable\n",
    "target_variable = train_data['HeartDisease']\n",
    "\n",
    "# Split the data into training and test sets\n",
    "features_train, features_test, target_train, target_test = train_test_split(features_scaled, target_variable, test_size=0.3, random_state=42)"
   ]
  },
  {
   "cell_type": "markdown",
   "metadata": {},
   "source": [
    "With the data preprocessing completed, we're now ready to move on to the next steps: model training and evaluation"
   ]
  },
  {
   "cell_type": "markdown",
   "metadata": {},
   "source": [
    "### Feature Engineering and Model Preparation\n",
    "\n",
    "In this step, we focus on optimizing the model's performance through hyperparameter tuning. Hyperparameters are the settings that can be adjusted to control the model's learning process. Tuning these parameters helps in finding the best version of the model that can predict more accurately.\n",
    "\n",
    "For our Decision Tree classifier, we will explore a range of hyperparameters to find the best combination that yields the highest accuracy. This process is facilitated by `GridSearchCV`, a tool that performs exhaustive search over specified parameter values for an estimator.\n",
    "\n",
    "#### Hyperparameter Tuning for Decision Tree Classifier\n",
    "\n",
    "The parameters we are tuning include:\n",
    "- `max_depth`: The maximum depth of the tree.\n",
    "- `min_samples_split`: The minimum number of samples required to split an internal node.\n",
    "- `min_samples_leaf`: The minimum number of samples required to be at a leaf node.\n",
    "- `ccp_alpha`: Complexity parameter used for Minimal Cost-Complexity Pruning.\n",
    "- `splitter`: The strategy used to choose the split at each node.\n",
    "- `class_weight`: Weights associated with classes.\n",
    "\n",
    "The goal is to find the optimal settings that lead to the best model performance."
   ]
  },
  {
   "cell_type": "code",
   "execution_count": 10,
   "metadata": {},
   "outputs": [
    {
     "name": "stdout",
     "output_type": "stream",
     "text": [
      "Fitting 5 folds for each of 1296 candidates, totalling 6480 fits\n"
     ]
    }
   ],
   "source": [
    "# Decision Tree Hyperparameter Grid\n",
    "dt_param_grid = {\n",
    "    'max_depth': [None, 10, 20, 30, 40, 50],\n",
    "    'min_samples_split': [2, 5, 10],\n",
    "    'min_samples_leaf': [1, 2, 4],\n",
    "    'ccp_alpha': [0.0, 0.001, 0.005, 0.01, 0.05, 0.1],\n",
    "    'splitter': ['best', 'random'],\n",
    "    'class_weight': [None, 'balanced']\n",
    "}\n",
    "\n",
    "# Decision Tree Grid Search Setup\n",
    "dt_grid_search = GridSearchCV(\n",
    "    estimator=DecisionTreeClassifier(random_state=42),\n",
    "    param_grid=dt_param_grid,\n",
    "    cv=5,\n",
    "    scoring='accuracy',\n",
    "    verbose=1,\n",
    "    n_jobs=-1\n",
    ")\n",
    "\n",
    "# Conduct Grid Search\n",
    "dt_grid_search.fit(features_train, target_train)\n",
    "\n",
    "# Optimal Decision Tree Estimator\n",
    "optimal_dt = dt_grid_search.best_estimator_"
   ]
  },
  {
   "cell_type": "markdown",
   "metadata": {},
   "source": [
    "With the best hyperparameters identified, we can now proceed to use this optimally tuned Decision Tree as the base estimator for our AdaBoost classifier. This ensures that our ensemble model starts with a strong foundation."
   ]
  },
  {
   "cell_type": "markdown",
   "metadata": {},
   "source": [
    "### Model Training with AdaBoost and Stacking Ensemble\n",
    "\n",
    "#### Enhancing Decision Tree Performance with AdaBoost\n",
    "\n",
    "Following the hyperparameter tuning of our Decision Tree model, we elevate the model training process by integrating AdaBoost, an ensemble technique. AdaBoost enhances the model's predictive power by sequentially adjusting the weights of incorrectly classified instances, thereby sharpening its focus on challenging cases.\n",
    "\n",
    "### Implementing AdaBoost and Stacking Ensemble\n",
    "\n",
    "We employ AdaBoost with the optimally tuned Decision Tree as the base estimator. Additionally, we explore a stacking ensemble approach, combining the strengths of AdaBoost, RandomForest, and Logistic Regression to build a robust classifier. This ensemble technique leverages multiple learning algorithms to achieve better predictive performance than any of the constituent models could achieve alone."
   ]
  },
  {
   "cell_type": "code",
   "execution_count": 11,
   "metadata": {},
   "outputs": [
    {
     "name": "stdout",
     "output_type": "stream",
     "text": [
      "Stacking Ensemble Model Accuracy: 0.8549222797927462\n"
     ]
    }
   ],
   "source": [
    "# AdaBoost with Tuned Decision Tree\n",
    "ada_boost_classifier = AdaBoostClassifier(estimator=optimal_dt, n_estimators=1000, random_state=42)\n",
    "\n",
    "# Additional Base Models for Stacking\n",
    "random_forest_classifier = RandomForestClassifier(n_estimators=100, random_state=42)\n",
    "logistic_regression_classifier = LogisticRegression()\n",
    "\n",
    "# Base Model Setup for Stacking\n",
    "base_classifiers = [\n",
    "    ('ada_boost', ada_boost_classifier),\n",
    "    ('random_forest', random_forest_classifier),\n",
    "    ('logistic_regression', logistic_regression_classifier)\n",
    "]\n",
    "\n",
    "# Meta-Model for Stacking\n",
    "stacking_meta_classifier = LogisticRegression()\n",
    "\n",
    "# Stacking Ensemble Setup\n",
    "stacking_ensemble_classifier = VotingClassifier(estimators=base_classifiers, voting=\"hard\", n_jobs=-1)\n",
    "\n",
    "# Train Stacking Ensemble\n",
    "stacking_ensemble_classifier.fit(features_train, target_train)\n",
    "\n",
    "# Ensemble Prediction on Test Data\n",
    "predictions_stacking = stacking_ensemble_classifier.predict(features_test)\n",
    "\n",
    "# Predict \n",
    "\n",
    "# Stacking Ensemble Accuracy\n",
    "accuracy_stacking_ensemble = accuracy_score(target_test, predictions_stacking)\n",
    "print(f'Stacking Ensemble Model Accuracy: {accuracy_stacking_ensemble}')"
   ]
  },
  {
   "cell_type": "markdown",
   "metadata": {},
   "source": [
    "### Evaluating the Model\n",
    "\n",
    "The final step in model training is to evaluate the performance of our classifier. We do this by calculating the confusion matrix and classification report, which provide insights into the accuracy, precision, recall, and F1-score of the model."
   ]
  },
  {
   "cell_type": "code",
   "execution_count": 12,
   "metadata": {},
   "outputs": [
    {
     "data": {
      "image/png": "[encoded data removed]",
      "text/plain": [
       "<Figure size 800x600 with 2 Axes>"
      ]
     },
     "metadata": {},
     "output_type": "display_data"
    },
    {
     "name": "stdout",
     "output_type": "stream",
     "text": [
      "\n",
      "Classification Report:\n",
      "               precision    recall  f1-score   support\n",
      "\n",
      "           0       0.86      0.80      0.83        86\n",
      "           1       0.85      0.90      0.87       107\n",
      "\n",
      "    accuracy                           0.85       193\n",
      "   macro avg       0.86      0.85      0.85       193\n",
      "weighted avg       0.86      0.85      0.85       193\n",
      "\n"
     ]
    }
   ],
   "source": [
    "# Confusion Matrix and Classification Report\n",
    "confusion_mat = confusion_matrix(target_test, predictions_stacking)\n",
    "\n",
    "# Visualizing the Confusion Matrix\n",
    "plt.figure(figsize=(8, 6))\n",
    "sns.heatmap(confusion_mat, annot=True, fmt=\"d\", cmap=\"Blues\", xticklabels=['Predicted No', 'Predicted Yes'], yticklabels=['Actual No', 'Actual Yes'])\n",
    "plt.title('Confusion Matrix')\n",
    "plt.ylabel('Actual Label')\n",
    "plt.xlabel('Predicted Label')\n",
    "plt.show()\n",
    "plt.show()\n",
    "\n",
    "# Generating Classification Report\n",
    "classification_rep = classification_report(target_test, predictions_stacking)\n",
    "print(\"\\nClassification Report:\\n\", classification_rep)"
   ]
  },
  {
   "cell_type": "markdown",
   "metadata": {},
   "source": [
    "Through these evaluation metrics, we can assess the model's ability to classify instances accurately and understand its strengths and weaknesses in predicting heart disease. This critical analysis guides us in making any necessary adjustments to improve model performance further."
   ]
  },
  {
   "cell_type": "markdown",
   "metadata": {},
   "source": [
    "### Individual Model Performance Analysis\n",
    "\n",
    "In order to thoroughly understand the strengths and limitations of our ensemble approach, it's crucial to evaluate the performance of each constituent model independently."
   ]
  },
  {
   "cell_type": "code",
   "execution_count": 13,
   "metadata": {},
   "outputs": [
    {
     "name": "stderr",
     "output_type": "stream",
     "text": [
      "C:\\Users\\Windows\\AppData\\Roaming\\Python\\Python312\\site-packages\\sklearn\\ensemble\\_weight_boosting.py:519: FutureWarning: The SAMME.R algorithm (the default) is deprecated and will be removed in 1.6. Use the SAMME algorithm to circumvent this warning.\n",
      "  warnings.warn(\n"
     ]
    },
    {
     "name": "stdout",
     "output_type": "stream",
     "text": [
      "AdaBoost Decision Tree Accuracy: 0.8394\n",
      "Random Forest Accuracy: 0.8653\n",
      "Logistic Regression Accuracy: 0.8549\n"
     ]
    }
   ],
   "source": [
    "# AdaBoost Decision Tree Accuracy\n",
    "ada_boost_classifier.fit(features_train, target_train)\n",
    "ada_boost_predictions = ada_boost_classifier.predict(features_test)\n",
    "accuracy_ada_boost = accuracy_score(target_test, ada_boost_predictions)\n",
    "print(f'AdaBoost Decision Tree Accuracy: {accuracy_ada_boost:.4f}')\n",
    "\n",
    "# Random Forest Accuracy\n",
    "random_forest_classifier.fit(features_train, target_train)\n",
    "random_forest_predictions = random_forest_classifier.predict(features_test)\n",
    "accuracy_rf = accuracy_score(target_test, random_forest_predictions)\n",
    "print(f'Random Forest Accuracy: {accuracy_rf:.4f}')\n",
    "\n",
    "# Logistic Regression Accuracy\n",
    "logistic_regression_classifier.fit(features_train, target_train)\n",
    "logistic_regression_predictions = logistic_regression_classifier.predict(features_test)\n",
    "accuracy_lr = accuracy_score(target_test, logistic_regression_predictions)\n",
    "print(f'Logistic Regression Accuracy: {accuracy_lr:.4f}')"
   ]
  },
  {
   "cell_type": "markdown",
   "metadata": {},
   "source": [
    "### Precision-Recall Curve\n",
    "\n",
    "The Precision-Recall Curve is a powerful tool for models where the balance between precision and recall is crucial, especially in datasets with significant class imbalance. It shows the trade-off between precision (the proportion of true positive results in all positive predictions) and recall (the proportion of true positive results in all actual positives). "
   ]
  },
  {
   "cell_type": "code",
   "execution_count": 14,
   "metadata": {},
   "outputs": [
    {
     "data": {
      "image/png": "[encoded data removed]",
      "text/plain": [
       "<Figure size 800x600 with 1 Axes>"
      ]
     },
     "metadata": {},
     "output_type": "display_data"
    }
   ],
   "source": [
    "from sklearn.metrics import precision_recall_curve, auc\n",
    "\n",
    "def plot_precision_recall_curve(y_true, y_scores):\n",
    "    \"\"\"\n",
    "    Plot Precision-Recall curve for the model.\n",
    "    \n",
    "    Parameters:\n",
    "    - y_true: Actual target values.\n",
    "    - y_scores: Target scores, can either be probability estimates of the positive class.\n",
    "    \"\"\"\n",
    "    precision, recall, _ = precision_recall_curve(y_true, y_scores)\n",
    "    auc_score = auc(recall, precision)\n",
    "    \n",
    "    plt.figure(figsize=(8, 6))\n",
    "    plt.plot(recall, precision, label=f'Precision-Recall curve (area = {auc_score:.2f})')\n",
    "    plt.xlabel('Recall')\n",
    "    plt.ylabel('Precision')\n",
    "    plt.title('Precision-Recall Curve')\n",
    "    plt.legend(loc='best')\n",
    "    plt.show()\n",
    "\n",
    "\n",
    "# Precision-Recall Curve for Ensemble Model\n",
    "plot_precision_recall_curve(target_test, predictions_stacking)"
   ]
  },
  {
   "cell_type": "markdown",
   "metadata": {},
   "source": [
    "#### Feature Importance Plot \n",
    "\n",
    "This function takes a trained model and a list of feature names as inputs and plots the importance of the top N features in the model. Feature importance is determined by how much each feature contributes to the model's decision-making process. "
   ]
  },
  {
   "cell_type": "code",
   "execution_count": 26,
   "metadata": {},
   "outputs": [
    {
     "data": {
      "image/png": "[encoded data removed]",
      "text/plain": [
       "<Figure size 1000x500 with 1 Axes>"
      ]
     },
     "metadata": {},
     "output_type": "display_data"
    }
   ],
   "source": [
    "\n",
    "def plot_feature_importance(model, feature_names, top_n_features=20):\n",
    "    \"\"\"\n",
    "    Plot the importance of features in the model.\n",
    "    \n",
    "    Parameters:\n",
    "    - model: The trained model.\n",
    "    - feature_names: List of names corresponding to the features used by the model.\n",
    "    \"\"\"\n",
    "    # Extract feature importance from the model\n",
    "    importances = model.feature_importances_\n",
    "    \n",
    "    # Sort feature importances in descending order and select the top N\n",
    "    indices = np.argsort(importances)[::-1][:top_n_features]\n",
    "    \n",
    "    # Rearrange feature names so they match the sorted feature importances\n",
    "    names = [feature_names[i] for i in indices]\n",
    "    sorted_importances = importances[indices]\n",
    "    \n",
    "    # Create plot\n",
    "    plt.figure(figsize=(10, 5))\n",
    "    plt.title(\"Top {} Feature Importance\".format(top_n_features))\n",
    "    plt.bar(range(top_n_features), sorted_importances, align='center')\n",
    "    \n",
    "    # Add feature names as x-axis labels\n",
    "    plt.xticks(range(top_n_features), names, rotation=45, ha='right')\n",
    "    \n",
    "    plt.tight_layout()  # Adjust layout to make room for the rotated x-axis labels\n",
    "    plt.show()\n",
    "\n",
    "plot_feature_importance(ada_boost_classifier, polynomial_feature_names)"
   ]
  },
  {
   "cell_type": "markdown",
   "metadata": {},
   "source": [
    "### Testing on New Data\n",
    "\n",
    "Preparing and Predicting with the Test Data\n",
    "\n",
    "Having trained and evaluated our model on a training dataset, the next critical step is to test its performance on new, unseen data. This step is essential for understanding how well our model generalizes to data it has not encountered before. We follow the same data preprocessing steps for the new dataset as we did for the training dataset. Finally, we use our trained model to make predictions on this new data and prepare a submission file with these predictions.\n",
    "\n",
    "#### Preparing the Test Data\n",
    "\n",
    "The new data must be preprocessed to match the format expected by the model. This involves filtering out missing or implausible values, creating interaction terms, encoding categorical variables, adding polynomial features, and scaling the features, just as we did with the training data.\n"
   ]
  },
  {
   "cell_type": "code",
   "execution_count": 15,
   "metadata": {},
   "outputs": [],
   "source": [
    "# Import the test dataset\n",
    "test_data = pd.read_csv('test_heart.csv', sep=',')\n",
    "\n",
    "# Preprocessing: Filter out missing or implausible values for Cholesterol and RestingBP\n",
    "chol_median = test_data.loc[test_data['Cholesterol'] != 0, 'Cholesterol'].median()\n",
    "test_data['Cholesterol'].replace(0, chol_median, inplace=True)\n",
    "\n",
    "restingBP_median = test_data.loc[test_data['RestingBP'] != 0, 'RestingBP'].median()\n",
    "test_data['RestingBP'].replace(0, restingBP_median, inplace=True)\n",
    "\n",
    "# Create interaction term\n",
    "test_data['Age_Chol_Interact'] = test_data['Age'] * test_data['Cholesterol']\n",
    "\n",
    "# Preparing the test data\n",
    "features_test_new = test_data.drop(['id'], axis=1)\n",
    "\n",
    "# Encoding and transforming the test data\n",
    "features_test_new_encoded = ordinal_encoder.transform(features_test_new)\n",
    "features_test_new_poly = poly_features_transformer.transform(features_test_new_encoded)\n",
    "features_test_new_scaled = standard_scaler.transform(features_test_new_poly)"
   ]
  },
  {
   "cell_type": "markdown",
   "metadata": {},
   "source": [
    "#### Making Predictions and Adjusting Threshold\n",
    "With the test data prepared, we predict the likelihood of heart disease. We then apply a chosen threshold to these predictions to classify each instance as either having heart disease or not. This threshold is adjustable based on the specific requirements of the task or the desired balance between sensitivity and specificity.\n",
    "\n",
    "#### Preparing the Submission File\n",
    "Finally, we prepare a submission file that includes the predictions for the new data. This file typically contains an ID for each instance and the corresponding prediction. This step is especially relevant in competition or operational settings where predictions need to be shared or deployed."
   ]
  },
  {
   "cell_type": "code",
   "execution_count": 17,
   "metadata": {},
   "outputs": [],
   "source": [
    "# Predict with the stacked ensemble model\n",
    "predictions_test_new_stacking = stacking_ensemble_classifier.predict(features_test_new_scaled)\n",
    "\n",
    "# Create a submission DataFrame\n",
    "submission_stacking = pd.DataFrame({\n",
    "    'id': test_data['id'],\n",
    "    'HeartDisease': predictions_test_new_stacking\n",
    "})\n",
    "\n",
    "# Save to CSV file\n",
    "submission_stacking.to_csv('predictions_stacking_submission.csv', index=False)"
   ]
  },
  {
   "cell_type": "markdown",
   "metadata": {},
   "source": [
    "This step concludes our process of developing a model to predict heart disease. By carefully preparing the test data, making informed predictions, and generating a submission file, we have applied our model to new data, showcasing its potential for real-world applications."
   ]
  },
  {
   "cell_type": "markdown",
   "metadata": {},
   "source": [
    "### Use of GenAI\n",
    "\n",
    "We used ChatGPT to clean up our code and documentation, making them more efficient. Although it sometimes recommended outdated solutions, it was great for organizing documentation and naming variables. ChatGPT also helped us analyze our data better with visual methods.\n",
    "\n",
    "In short, ChatGPT was very useful for documentation and data analysis, but it's important to double-check its technical suggestions."
   ]
  }
 ],
 "metadata": {
  "kernelspec": {
   "display_name": "Python 3",
   "language": "python",
   "name": "python3"
  },
  "language_info": {
   "codemirror_mode": {
    "name": "ipython",
    "version": 3
   },
   "file_extension": ".py",
   "mimetype": "text/x-python",
   "name": "python",
   "nbconvert_exporter": "python",
   "pygments_lexer": "ipython3",
   "version": "3.12.1"
  }
 },
 "nbformat": 4,
 "nbformat_minor": 2
}
